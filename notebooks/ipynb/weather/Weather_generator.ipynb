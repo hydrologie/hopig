{
 "cells": [
  {
   "cell_type": "code",
   "execution_count": null,
   "metadata": {},
   "outputs": [],
   "source": [
    "# Code Javascript"
   ]
  },
  {
   "cell_type": "code",
   "execution_count": null,
   "metadata": {},
   "outputs": [],
   "source": [
    "import dask.dataframe as dd\n",
    "import os\n",
    "import pandas as pd\n",
    "import numpy as np\n",
    "from dask.distributed import Client\n",
    "import geopandas as gpd\n",
    "import matplotlib.pyplot as plt\n",
    "import hvplot.pandas\n",
    "import sys\n",
    "import xarray as xr\n",
    "import warnings\n",
    "from IPython.display import Markdown as md\n",
    "import cartopy.crs as ccrs\n",
    "import hvplot\n",
    "import holoviews as hv\n",
    "from geoviews import opts\n",
    "import geoviews as gv\n",
    "import geoviews.feature as gf\n",
    "import s3fs\n",
    "import fsspec\n",
    "from bokeh.layouts import widgetbox\n",
    "from bokeh.layouts import column as bokehCol\n",
    "from bokeh.models.layouts import Column\n",
    "from bokeh.models.widgets import DatePicker\n",
    "from datetime import date\n",
    "import panel as pn\n",
    "import hvplot.xarray\n",
    "from shapely.geometry import Polygon\n",
    "from shapely.geometry import Point\n",
    "import random\n",
    "from geoviews import opts\n",
    "\n",
    "pd.set_option('display.max_rows', 2000)\n",
    "warnings.filterwarnings(\"ignore\")"
   ]
  },
  {
   "cell_type": "code",
   "execution_count": null,
   "metadata": {},
   "outputs": [],
   "source": [
    "# Dask client to implement distributed calculations (multicore or multinode if a cluster is available)\n",
    "client = Client(silence_logs=40)"
   ]
  },
  {
   "cell_type": "markdown",
   "metadata": {},
   "source": [
    "# 1. Introduction"
   ]
  },
  {
   "cell_type": "markdown",
   "metadata": {},
   "source": [
    "Texte"
   ]
  },
  {
   "cell_type": "markdown",
   "metadata": {},
   "source": [
    "# 2. Méthodologie"
   ]
  },
  {
   "cell_type": "markdown",
   "metadata": {},
   "source": [
    "## 2.1 Domaine à l'étude"
   ]
  },
  {
   "cell_type": "code",
   "execution_count": null,
   "metadata": {},
   "outputs": [],
   "source": [
    "bucket = 's3://era5-atlantic-northeast/zarr/land/reanalysis'\n",
    "\n",
    "storage_options = {'endpoint_url': 'https://s3.us-east-2.wasabisys.com'}\n",
    "\n",
    "ds = xr.open_zarr(fsspec.get_mapper(bucket,\n",
    "                                    client_kwargs=storage_options,\n",
    "                                    anon=True),\n",
    "                  consolidated=True)"
   ]
  },
  {
   "cell_type": "code",
   "execution_count": null,
   "metadata": {},
   "outputs": [],
   "source": [
    "ds"
   ]
  },
  {
   "cell_type": "code",
   "execution_count": null,
   "metadata": {},
   "outputs": [],
   "source": [
    "bv_polygon_url = 'https://s3.us-east-2.wasabisys.com/watersheds-polygons/MELCC/json/040204/040204.json'\n",
    "\n",
    "extent = Polygon([[-96, 63], [-96, 40], [-52, 40], [-52, 63]])\n",
    "\n",
    "basin_polygon = gpd.read_file(bv_polygon_url).iloc[0].geometry\n",
    "bounds_polygon = basin_polygon.bounds\n",
    "\n",
    "# 1 3\n",
    "# 0 1\n",
    "# 2 1\n",
    "# 2 3\n",
    "\n",
    "gdf = gpd.GeoDataFrame(index=[0, 1, 3], \n",
    "                       crs={'init': 'epsg:4326'}, \n",
    "                       geometry=[extent, \n",
    "                                 basin_polygon,\n",
    "                                  Polygon([[np.floor(5*bounds_polygon[0])/5, np.ceil(5*bounds_polygon[3])/5],\n",
    "                                           [np.floor(5*bounds_polygon[0])/5, np.floor(5*bounds_polygon[1])/5],\n",
    "                                           [np.ceil(5*bounds_polygon[2])/5, np.floor(5*bounds_polygon[1])/5],\n",
    "                                           [np.ceil(5*bounds_polygon[2])/5, np.ceil(5*bounds_polygon[3])/5]])])"
   ]
  },
  {
   "cell_type": "code",
   "execution_count": null,
   "metadata": {},
   "outputs": [],
   "source": [
    "def random_points_in_polygon(number, polygon):\n",
    "    points = []\n",
    "    min_x, min_y, max_x, max_y = polygon.bounds\n",
    "    i= 0\n",
    "    while i < number:\n",
    "        point = Point(random.uniform(min_x, max_x), random.uniform(min_y, max_y))\n",
    "        if polygon.contains(point):\n",
    "            points.append(point)\n",
    "            i += 1\n",
    "    return gpd.GeoDataFrame(index=range(0,len(points)), \n",
    "                            crs={'init': 'epsg:4326'}, \n",
    "                            geometry=points) \n",
    "\n",
    "def plot_random_coordinate(gdf, size):\n",
    "    return gdf.iloc[0:1].hvplot(geo=True, tiles='ESRI', alpha=0.5, width=500, height=500)*\\\n",
    "    gdf.iloc[1:2].hvplot(geo=True, alpha=1, width=500, height=500, color='red')*\\\n",
    "    random_points_in_polygon(size, gdf.iloc[0].geometry).hvplot(geo=True, color='yellow', \n",
    "                                                                title='Number of points: ' + str(size))\n",
    "\n",
    "\n",
    "opts.defaults(\n",
    "        opts.Overlay(active_tools=['wheel_zoom', 'pan']))\n",
    "\n",
    "(plot_random_coordinate(gdf, 100) + plot_random_coordinate(gdf, 500) +\\\n",
    "plot_random_coordinate(gdf, 1000) + plot_random_coordinate(gdf, 5000)).cols(2)"
   ]
  },
  {
   "cell_type": "markdown",
   "metadata": {},
   "source": [
    "## 2.2 Largeur de la grille désirée"
   ]
  },
  {
   "cell_type": "code",
   "execution_count": null,
   "metadata": {},
   "outputs": [],
   "source": [
    "gdf_random_points = random_points_in_polygon(1000, gdf.iloc[0].geometry)"
   ]
  },
  {
   "cell_type": "code",
   "execution_count": null,
   "metadata": {},
   "outputs": [],
   "source": [
    "gdf_random_points['x'] = np.round(gdf_random_points.geometry.x,1)\n",
    "gdf_random_points['y'] = np.round(gdf_random_points.geometry.y,2)"
   ]
  },
  {
   "cell_type": "code",
   "execution_count": null,
   "metadata": {},
   "outputs": [],
   "source": [
    "extent_polygon = list(gdf.iloc[2].geometry.bounds)\n",
    "dist_x = np.round(abs(extent_polygon[0] - extent_polygon[2]),1)\n",
    "dist_y = np.round(abs(extent_polygon[1] - extent_polygon[3]),1)"
   ]
  },
  {
   "cell_type": "code",
   "execution_count": null,
   "metadata": {},
   "outputs": [],
   "source": [
    "import dask\n",
    "\n",
    "sim_member = 1\n",
    "\n",
    "   \n",
    "row = gdf_random_points.iloc[sim_member-1]\n",
    "\n",
    "da = ds['t2m'].sel(latitude=slice(0.01+np.round(row.y+dist_y/2,1), \n",
    "                                  -0.01+np.round(row.y-dist_y/2,1)),\n",
    "                   longitude=slice(-0.01+np.round(row.x-dist_x/2,1), \n",
    "                                   0.01+np.round(row.x+dist_x/2,1)))\n",
    "\n",
    "da_tmin = da.resample(time='1D').min()\n",
    "\n",
    "da_tmin.coords['longitude'] = np.round(da_tmin.coords['longitude'] - \n",
    "                                       (da_tmin.coords['longitude'].min() - extent_polygon[0]),1)\n",
    "\n",
    "da_tmin.coords['latitude'] = np.round(da_tmin.coords['latitude'] - \n",
    "                                      (da_tmin.coords['latitude'].min() - extent_polygon[1]),1)\n",
    "\n",
    "da_tmin.expand_dims({'sim_member':sim_member}).to_netcdf(\n",
    "    '/home/slanglois/Documents/ERA5/tmin_sim_{sim_member:0.0f}'.format(sim_member=sim_member))"
   ]
  },
  {
   "cell_type": "code",
   "execution_count": null,
   "metadata": {},
   "outputs": [],
   "source": [
    "sim_member = 1\n",
    "\n"
   ]
  },
  {
   "cell_type": "code",
   "execution_count": null,
   "metadata": {},
   "outputs": [],
   "source": [
    "output = []\n",
    "for x in range(0,3):\n",
    "    c = make_grid(sim_member=x,\n",
    "                  gdf=gdf,\n",
    "                  ds=ds)\n",
    "    output.append(c)"
   ]
  },
  {
   "cell_type": "code",
   "execution_count": null,
   "metadata": {},
   "outputs": [],
   "source": [
    "results = dask.compute(*output)"
   ]
  },
  {
   "cell_type": "code",
   "execution_count": null,
   "metadata": {},
   "outputs": [],
   "source": []
  },
  {
   "cell_type": "code",
   "execution_count": null,
   "metadata": {},
   "outputs": [],
   "source": []
  },
  {
   "cell_type": "code",
   "execution_count": null,
   "metadata": {},
   "outputs": [],
   "source": [
    "extent_polygon"
   ]
  },
  {
   "cell_type": "code",
   "execution_count": null,
   "metadata": {},
   "outputs": [],
   "source": []
  },
  {
   "cell_type": "code",
   "execution_count": null,
   "metadata": {},
   "outputs": [],
   "source": [
    "da_tmin_reindexed = da_tmin.reindex({\"latitude\": new_index_latitude,\n",
    "                 \"longitude\": new_index_longitude})"
   ]
  },
  {
   "cell_type": "code",
   "execution_count": null,
   "metadata": {},
   "outputs": [],
   "source": [
    "da_tmin[10,:,:].hvplot()"
   ]
  },
  {
   "cell_type": "code",
   "execution_count": null,
   "metadata": {},
   "outputs": [],
   "source": []
  },
  {
   "cell_type": "code",
   "execution_count": null,
   "metadata": {},
   "outputs": [],
   "source": []
  },
  {
   "cell_type": "code",
   "execution_count": null,
   "metadata": {},
   "outputs": [],
   "source": [
    "gdf.iloc[1:].hvplot(alpha=0.5, tiles='ESRI', geo=True, width = 600, height = 500)"
   ]
  },
  {
   "cell_type": "code",
   "execution_count": null,
   "metadata": {},
   "outputs": [],
   "source": []
  },
  {
   "cell_type": "code",
   "execution_count": null,
   "metadata": {},
   "outputs": [],
   "source": []
  },
  {
   "cell_type": "code",
   "execution_count": null,
   "metadata": {},
   "outputs": [],
   "source": []
  },
  {
   "cell_type": "code",
   "execution_count": null,
   "metadata": {},
   "outputs": [],
   "source": [
    "dist_y"
   ]
  },
  {
   "cell_type": "code",
   "execution_count": null,
   "metadata": {},
   "outputs": [],
   "source": [
    "from IPython.display import display, Markdown\n",
    "\n",
    "Markdown(\"\"\"La grille pigée doit donc avoir un étendu de {}° sur la longitude et\n",
    "   {}° sur la latitude\"\"\".format(dist_x, dist_y))"
   ]
  },
  {
   "cell_type": "code",
   "execution_count": null,
   "metadata": {},
   "outputs": [],
   "source": []
  },
  {
   "cell_type": "code",
   "execution_count": null,
   "metadata": {},
   "outputs": [],
   "source": []
  },
  {
   "cell_type": "code",
   "execution_count": null,
   "metadata": {},
   "outputs": [],
   "source": []
  }
 ],
 "metadata": {
  "kernelspec": {
   "display_name": "hopig",
   "language": "python",
   "name": "hopig"
  },
  "language_info": {
   "codemirror_mode": {
    "name": "ipython",
    "version": 3
   },
   "file_extension": ".py",
   "mimetype": "text/x-python",
   "name": "python",
   "nbconvert_exporter": "python",
   "pygments_lexer": "ipython3",
   "version": "3.7.7"
  }
 },
 "nbformat": 4,
 "nbformat_minor": 4
}
